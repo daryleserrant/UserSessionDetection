{
 "cells": [
  {
   "cell_type": "code",
   "execution_count": 1,
   "metadata": {},
   "outputs": [],
   "source": [
    "import pandas as pd\n",
    "import numpy as np\n",
    "import matplotlib.pyplot as plt\n",
    "import seaborn as sbn\n",
    "from sklearn import preprocessing\n",
    "from sklearn.model_selection import train_test_split\n",
    "from sklearn.linear_model import LogisticRegression\n",
    "from sklearn.tree import DecisionTreeClassifier\n",
    "from sklearn.ensemble import RandomForestClassifier\n",
    "from sklearn.svm import SVC\n",
    "from sklearn.model_selection import GridSearchCV\n",
    "from sklearn.utils import compute_class_weight\n",
    "from sklearn.metrics import f1_score\n",
    "from collections import Counter\n",
    "%matplotlib inline"
   ]
  },
  {
   "cell_type": "markdown",
   "metadata": {},
   "source": [
    "Read the dataset"
   ]
  },
  {
   "cell_type": "code",
   "execution_count": 2,
   "metadata": {},
   "outputs": [],
   "source": [
    "sessions_df = pd.read_json('catchjoe/dataset.json')"
   ]
  },
  {
   "cell_type": "markdown",
   "metadata": {},
   "source": [
    "View the dataset info"
   ]
  },
  {
   "cell_type": "code",
   "execution_count": 3,
   "metadata": {},
   "outputs": [
    {
     "name": "stdout",
     "output_type": "stream",
     "text": [
      "<class 'pandas.core.frame.DataFrame'>\n",
      "RangeIndex: 80000 entries, 0 to 79999\n",
      "Data columns (total 9 columns):\n",
      "browser     80000 non-null object\n",
      "date        80000 non-null datetime64[ns]\n",
      "gender      80000 non-null object\n",
      "locale      80000 non-null object\n",
      "location    80000 non-null object\n",
      "os          80000 non-null object\n",
      "sites       80000 non-null object\n",
      "time        80000 non-null object\n",
      "user_id     80000 non-null int64\n",
      "dtypes: datetime64[ns](1), int64(1), object(7)\n",
      "memory usage: 5.5+ MB\n"
     ]
    }
   ],
   "source": [
    "sessions_df.info()"
   ]
  },
  {
   "cell_type": "code",
   "execution_count": 4,
   "metadata": {},
   "outputs": [
    {
     "data": {
      "text/plain": [
       "191    400\n",
       "18     400\n",
       "85     400\n",
       "21     400\n",
       "148    400\n",
       "84     400\n",
       "20     400\n",
       "147    400\n",
       "83     400\n",
       "19     400\n",
       "146    400\n",
       "82     400\n",
       "145    400\n",
       "127    400\n",
       "81     400\n",
       "17     400\n",
       "144    400\n",
       "80     400\n",
       "16     400\n",
       "143    400\n",
       "79     400\n",
       "15     400\n",
       "142    400\n",
       "78     400\n",
       "149    400\n",
       "22     400\n",
       "86     400\n",
       "150    400\n",
       "157    400\n",
       "93     400\n",
       "      ... \n",
       "96     400\n",
       "32     400\n",
       "159    400\n",
       "95     400\n",
       "102    400\n",
       "39     400\n",
       "174    400\n",
       "103    400\n",
       "110    400\n",
       "46     400\n",
       "173    400\n",
       "109    400\n",
       "45     400\n",
       "172    400\n",
       "108    400\n",
       "44     400\n",
       "171    400\n",
       "107    400\n",
       "43     400\n",
       "170    400\n",
       "106    400\n",
       "42     400\n",
       "169    400\n",
       "105    400\n",
       "41     400\n",
       "168    400\n",
       "104    400\n",
       "40     400\n",
       "167    400\n",
       "0      400\n",
       "Name: user_id, Length: 200, dtype: int64"
      ]
     },
     "execution_count": 4,
     "metadata": {},
     "output_type": "execute_result"
    }
   ],
   "source": [
    "# Data distribution by user_id\n",
    "sessions_df.user_id.value_counts()"
   ]
  },
  {
   "cell_type": "code",
   "execution_count": 5,
   "metadata": {},
   "outputs": [],
   "source": [
    "sessions_df['session_length'] = sessions_df['sites'].apply(lambda x: sum([s['length'] for s in x]))\n",
    "sessions_df['num_sites_visited'] = sessions_df['sites'].apply(lambda x: len(x))\n",
    "sessions_df['hour'] = sessions_df.time.apply(lambda x: int(x.split(':')[0]))\n",
    "sessions_df['average_viewed_time'] = sessions_df.sites.apply(lambda lst: np.mean([s['length'] for s in lst]) if len(lst) != 0 else 0)\n",
    "#sessions_df['day_of_week'] = sessions_df.date.dt.dayofweek"
   ]
  },
  {
   "cell_type": "markdown",
   "metadata": {},
   "source": [
    "Examining the session data for user 0 specifically. View the os, locale, browser, gender, and location information specific to the user"
   ]
  },
  {
   "cell_type": "code",
   "execution_count": 6,
   "metadata": {},
   "outputs": [],
   "source": [
    "joe_sessions_df = sessions_df[sessions_df.user_id == 0].copy()"
   ]
  },
  {
   "cell_type": "code",
   "execution_count": 7,
   "metadata": {},
   "outputs": [
    {
     "data": {
      "text/plain": [
       "array(['Windows 10', 'Ubuntu'], dtype=object)"
      ]
     },
     "execution_count": 7,
     "metadata": {},
     "output_type": "execute_result"
    }
   ],
   "source": [
    "# View OS\n",
    "joe_sessions_df.os.unique()"
   ]
  },
  {
   "cell_type": "code",
   "execution_count": 8,
   "metadata": {},
   "outputs": [
    {
     "data": {
      "text/plain": [
       "array(['m'], dtype=object)"
      ]
     },
     "execution_count": 8,
     "metadata": {},
     "output_type": "execute_result"
    }
   ],
   "source": [
    "# View Gender\n",
    "joe_sessions_df.gender.unique()"
   ]
  },
  {
   "cell_type": "code",
   "execution_count": 9,
   "metadata": {},
   "outputs": [
    {
     "data": {
      "text/plain": [
       "array(['ru_RU'], dtype=object)"
      ]
     },
     "execution_count": 9,
     "metadata": {},
     "output_type": "execute_result"
    }
   ],
   "source": [
    "# View Locale\n",
    "joe_sessions_df.locale.unique()"
   ]
  },
  {
   "cell_type": "code",
   "execution_count": 10,
   "metadata": {},
   "outputs": [
    {
     "data": {
      "text/plain": [
       "array(['France/Paris', 'USA/Chicago', 'Canada/Toronto'], dtype=object)"
      ]
     },
     "execution_count": 10,
     "metadata": {},
     "output_type": "execute_result"
    }
   ],
   "source": [
    "# View Locations\n",
    "joe_sessions_df.location.unique()"
   ]
  },
  {
   "cell_type": "code",
   "execution_count": 11,
   "metadata": {},
   "outputs": [
    {
     "data": {
      "text/plain": [
       "array(['Firefox', 'Chrome'], dtype=object)"
      ]
     },
     "execution_count": 11,
     "metadata": {},
     "output_type": "execute_result"
    }
   ],
   "source": [
    "# View Browsers\n",
    "joe_sessions_df.browser.unique()"
   ]
  },
  {
   "cell_type": "code",
   "execution_count": 12,
   "metadata": {},
   "outputs": [
    {
     "data": {
      "text/plain": [
       "[('lenta.ru', 361),\n",
       " ('toptal.com', 359),\n",
       " ('vk.com', 352),\n",
       " ('slack.com', 351),\n",
       " ('mail.google.com', 348),\n",
       " ('youtube.com', 348),\n",
       " ('gazzettaobjects.it', 3),\n",
       " ('hibapress.com', 2),\n",
       " ('dalloz.fr', 2),\n",
       " ('free.fr', 2)]"
      ]
     },
     "execution_count": 12,
     "metadata": {},
     "output_type": "execute_result"
    }
   ],
   "source": [
    "# What are the most common sites viewed by user 0?\n",
    "joe_sites = Counter([s['site'] for x in joe_sessions_df.sites for s in x])\n",
    "joe_sites.most_common(10)"
   ]
  },
  {
   "cell_type": "code",
   "execution_count": 13,
   "metadata": {},
   "outputs": [
    {
     "data": {
      "text/plain": [
       "<matplotlib.axes._subplots.AxesSubplot at 0x22661134f28>"
      ]
     },
     "execution_count": 13,
     "metadata": {},
     "output_type": "execute_result"
    },
    {
     "data": {
      "image/png": "[encoded data removed]",
      "text/plain": [
       "<Figure size 432x288 with 1 Axes>"
      ]
     },
     "metadata": {
      "needs_background": "light"
     },
     "output_type": "display_data"
    }
   ],
   "source": [
    "# What hour of day are this user's sessions happening\n",
    "joe_sessions_df.hour.hist()"
   ]
  },
  {
   "cell_type": "markdown",
   "metadata": {},
   "source": [
    "So it looks like sessions for user 0 have the following characteristics:\n",
    "  - Gender is male\n",
    "  - Uses either Firefox or Chrome browser\n",
    "  - User locale is Russian\n",
    "  - Uses Ubuntu or Windows 10 OS\n",
    "  - Located in Paris, Chicago, or Toronto\n",
    "  - Most common sites frequented are lenta.ru, toptal.com, vk.com, slack.com, mail.google.com, and youtube.com\n",
    "  - Active between the hours of 1 - 3 am, 10 - 11 am, 4pm - 8pm, and 10pm"
   ]
  },
  {
   "cell_type": "markdown",
   "metadata": {},
   "source": [
    "Are there any other users with similar characteristics?"
   ]
  },
  {
   "cell_type": "code",
   "execution_count": 14,
   "metadata": {},
   "outputs": [
    {
     "data": {
      "text/plain": [
       "array([105,  82,  15, 192, 181, 111,  56,  69], dtype=int64)"
      ]
     },
     "execution_count": 14,
     "metadata": {},
     "output_type": "execute_result"
    }
   ],
   "source": [
    "sessions_df[(sessions_df.user_id != 0) &\n",
    "            (sessions_df.gender == 'm') & \n",
    "            (sessions_df.location.isin(['France/Paris','USA/Chicago','Canada/Toronto'])) &\n",
    "            (sessions_df.os.isin(['Ubuntu','Windows 10'])) &\n",
    "            (sessions_df.browser.isin(['Firefox','Chrome'])) &\n",
    "            (sessions_df.locale == 'ru_RU')].user_id.unique()"
   ]
  },
  {
   "cell_type": "markdown",
   "metadata": {},
   "source": [
    "What are the sites most commonly viewed by these similar users?"
   ]
  },
  {
   "cell_type": "code",
   "execution_count": 15,
   "metadata": {},
   "outputs": [
    {
     "name": "stdout",
     "output_type": "stream",
     "text": [
      "User 105: [('slack.com', 356), ('youtube.com', 353), ('toptal.com', 350), ('lenta.ru', 349), ('mail.google.com', 348), ('levillagedemusher.com', 3)]\n",
      "User 82: [('mail.google.com', 357), ('toptal.com', 354), ('slack.com', 354), ('vk.com', 353), ('youtube.com', 349), ('lenta.ru', 345)]\n",
      "User 15: [('slack.com', 352), ('youtube.com', 351), ('vk.com', 349), ('mail.google.com', 346), ('lenta.ru', 345), ('toptal.com', 345)]\n",
      "User 192: [('youtube.com', 350), ('mail.google.com', 348), ('lenta.ru', 346), ('toptal.com', 346), ('vk.com', 345), ('slack.com', 341)]\n",
      "User 181: [('slack.com', 371), ('vk.com', 358), ('toptal.com', 355), ('mail.google.com', 355), ('youtube.com', 355), ('lenta.ru', 350)]\n",
      "User 111: [('youtube.com', 348), ('mail.google.com', 346), ('lenta.ru', 346), ('vk.com', 342), ('slack.com', 337), ('toptal.com', 335)]\n",
      "User 56: [('vk.com', 347), ('lenta.ru', 344), ('toptal.com', 344), ('youtube.com', 340), ('mail.google.com', 333), ('botscanner.com', 3)]\n",
      "User 69: [('mail.google.com', 357), ('lenta.ru', 354), ('slack.com', 354), ('vk.com', 351), ('toptal.com', 351), ('youtube.com', 347)]\n"
     ]
    }
   ],
   "source": [
    "similar_users = [105,  82,  15, 192, 181, 111,  56,  69]\n",
    "for user in similar_users:\n",
    "    sub_df = sessions_df[sessions_df.user_id == user]\n",
    "    sub_sites = Counter([s['site'] for x in sub_df.sites for s in x])\n",
    "    print(\"User {0}: {1}\".format(user, sub_sites.most_common(6)))"
   ]
  },
  {
   "cell_type": "markdown",
   "metadata": {},
   "source": [
    "As we can see, these users also frequently visit the same set of sites as user 0"
   ]
  },
  {
   "cell_type": "markdown",
   "metadata": {},
   "source": [
    "Since a vast majority of the users in the dataset doesn't match these chracteristics, we can safety classify these users as the negative class using a simple if then statements.\n",
    "\n",
    "Fitting a machine learning model on the rest of the data. This will help us simplify the model while significantly reducing the class imbalance present in the data. "
   ]
  },
  {
   "cell_type": "code",
   "execution_count": 16,
   "metadata": {},
   "outputs": [],
   "source": [
    "candidate_df = sessions_df[(sessions_df.gender == 'm') & \n",
    "                            (sessions_df.location.isin(['France/Paris','USA/Chicago','Canada/Toronto'])) &\n",
    "                            (sessions_df.os.isin(['Ubuntu','Windows 10'])) &\n",
    "                            (sessions_df.browser.isin(['Firefox','Chrome'])) &\n",
    "                            (sessions_df.locale == 'ru_RU')].reset_index()"
   ]
  },
  {
   "cell_type": "markdown",
   "metadata": {},
   "source": [
    "Construct the features for the model."
   ]
  },
  {
   "cell_type": "markdown",
   "metadata": {},
   "source": [
    "Creating a binary feature that will indicate if a user has visited a site that is never visited by user 0 during the session"
   ]
  },
  {
   "cell_type": "code",
   "execution_count": 17,
   "metadata": {},
   "outputs": [],
   "source": [
    "joe_sessions_df = candidate_df[candidate_df.user_id == 0].copy()\n",
    "joe_sites = set()\n",
    "\n",
    "for i in range(joe_sessions_df.shape[0]):\n",
    "    site_visits = [s['site'] for s in joe_sessions_df.iloc[i]['sites']]\n",
    "    for site in site_visits:\n",
    "        joe_sites.add(site)\n",
    "others_df = candidate_df[candidate_df.user_id != 0].copy()\n",
    "non_sites = set()\n",
    "for i in range(others_df.shape[0]):\n",
    "    site_visits = [s['site'] for s in others_df.iloc[i]['sites']]\n",
    "    for site in site_visits:\n",
    "        if site not in joe_sites:\n",
    "            non_sites.add(site)"
   ]
  },
  {
   "cell_type": "code",
   "execution_count": 18,
   "metadata": {},
   "outputs": [],
   "source": [
    "def in_joe_blacklist(sites):\n",
    "    for site in sites:\n",
    "        if site['site'] in non_sites:\n",
    "            return 1\n",
    "    return 0\n",
    "candidate_df['in_blacklist'] = candidate_df.sites.apply(in_joe_blacklist)"
   ]
  },
  {
   "cell_type": "markdown",
   "metadata": {},
   "source": [
    "Create new features that capture the length of time spent on the top six most frequented sites by user 0"
   ]
  },
  {
   "cell_type": "code",
   "execution_count": 19,
   "metadata": {},
   "outputs": [],
   "source": [
    "most_viewed_sites = ['lenta.ru','toptal.com','vk.com','slack.com','mail.google.com','youtube.com']\n",
    "site_lengths = np.zeros((candidate_df.shape[0], len(most_viewed_sites)))\n",
    "column_names = ['time_lenta','time_toptal','time_vk','time_slack','time_gmail','time_youtube']\n",
    "for ix, row in candidate_df.iterrows():\n",
    "    sites_visited = {s['site']: s['length'] for s in row['sites']}\n",
    "    for jx, mv in enumerate(most_viewed_sites):\n",
    "        if mv in sites_visited:\n",
    "            site_lengths[ix, jx] = sites_visited[mv]\n",
    "most_viewed_df = pd.DataFrame(site_lengths, columns=column_names)"
   ]
  },
  {
   "cell_type": "code",
   "execution_count": 20,
   "metadata": {},
   "outputs": [],
   "source": [
    "final_df = pd.concat([candidate_df,most_viewed_df], axis=1).drop(['date','gender','locale','location','os','time','sites','browser'],axis=1)"
   ]
  },
  {
   "cell_type": "markdown",
   "metadata": {},
   "source": [
    "Construct several models and evalute them based on F1 score"
   ]
  },
  {
   "cell_type": "code",
   "execution_count": 21,
   "metadata": {},
   "outputs": [],
   "source": [
    "final_df['target'] = final_df.user_id.apply(lambda x: 1 if x == 0 else 0)"
   ]
  },
  {
   "cell_type": "code",
   "execution_count": 22,
   "metadata": {},
   "outputs": [],
   "source": [
    "y = final_df['target']\n",
    "X = final_df.drop(['user_id','target','index'],axis=1)"
   ]
  },
  {
   "cell_type": "code",
   "execution_count": 23,
   "metadata": {},
   "outputs": [],
   "source": [
    "X_train, X_test, y_train, y_test = train_test_split(X, y, test_size=0.2, random_state=46)"
   ]
  },
  {
   "cell_type": "code",
   "execution_count": 24,
   "metadata": {},
   "outputs": [],
   "source": [
    "cls_weights = compute_class_weight('balanced', np.unique(y_train), y_train)\n",
    "wgt = {0: cls_weights[0], 1: cls_weights[1]}"
   ]
  },
  {
   "cell_type": "markdown",
   "metadata": {},
   "source": [
    "Build a Logistic Regression Model"
   ]
  },
  {
   "cell_type": "code",
   "execution_count": 25,
   "metadata": {},
   "outputs": [
    {
     "data": {
      "text/plain": [
       "LogisticRegression(C=1.0,\n",
       "                   class_weight={0: 0.5682875264270613, 1: 4.1609907120743035},\n",
       "                   dual=False, fit_intercept=True, intercept_scaling=1,\n",
       "                   l1_ratio=None, max_iter=100, multi_class='auto', n_jobs=None,\n",
       "                   penalty='l2', random_state=52, solver='lbfgs', tol=0.0001,\n",
       "                   verbose=0, warm_start=False)"
      ]
     },
     "execution_count": 25,
     "metadata": {},
     "output_type": "execute_result"
    }
   ],
   "source": [
    "lr_clf = LogisticRegression(class_weight = wgt, random_state=52)\n",
    "lr_clf.fit(preprocessing.scale(X_train), y_train)"
   ]
  },
  {
   "cell_type": "code",
   "execution_count": 26,
   "metadata": {},
   "outputs": [
    {
     "data": {
      "text/plain": [
       "0.7314814814814814"
      ]
     },
     "execution_count": 26,
     "metadata": {},
     "output_type": "execute_result"
    }
   ],
   "source": [
    "f1_score(y_train, lr_clf.predict(preprocessing.scale(X_train)))"
   ]
  },
  {
   "cell_type": "code",
   "execution_count": 27,
   "metadata": {},
   "outputs": [
    {
     "data": {
      "text/plain": [
       "0.6545454545454545"
      ]
     },
     "execution_count": 27,
     "metadata": {},
     "output_type": "execute_result"
    }
   ],
   "source": [
    "f1_score(y_test, lr_clf.predict(preprocessing.scale(X_test)))"
   ]
  },
  {
   "cell_type": "markdown",
   "metadata": {},
   "source": [
    "Build a Decision Tree Model"
   ]
  },
  {
   "cell_type": "code",
   "execution_count": 28,
   "metadata": {},
   "outputs": [
    {
     "data": {
      "text/plain": [
       "DecisionTreeClassifier(ccp_alpha=0.0,\n",
       "                       class_weight={0: 0.5682875264270613,\n",
       "                                     1: 4.1609907120743035},\n",
       "                       criterion='gini', max_depth=None, max_features=None,\n",
       "                       max_leaf_nodes=None, min_impurity_decrease=0.0,\n",
       "                       min_impurity_split=None, min_samples_leaf=1,\n",
       "                       min_samples_split=2, min_weight_fraction_leaf=0.0,\n",
       "                       presort='deprecated', random_state=52, splitter='best')"
      ]
     },
     "execution_count": 28,
     "metadata": {},
     "output_type": "execute_result"
    }
   ],
   "source": [
    "dt_clf = DecisionTreeClassifier(class_weight = wgt,random_state=52)\n",
    "dt_clf.fit(X_train, y_train)"
   ]
  },
  {
   "cell_type": "code",
   "execution_count": 29,
   "metadata": {},
   "outputs": [
    {
     "data": {
      "text/plain": [
       "1.0"
      ]
     },
     "execution_count": 29,
     "metadata": {},
     "output_type": "execute_result"
    }
   ],
   "source": [
    "f1_score(y_train, dt_clf.predict(X_train))"
   ]
  },
  {
   "cell_type": "code",
   "execution_count": 30,
   "metadata": {},
   "outputs": [
    {
     "data": {
      "text/plain": [
       "0.7594936708860759"
      ]
     },
     "execution_count": 30,
     "metadata": {},
     "output_type": "execute_result"
    }
   ],
   "source": [
    "f1_score(y_test, dt_clf.predict(X_test))"
   ]
  },
  {
   "cell_type": "markdown",
   "metadata": {},
   "source": [
    "Build a Random Forest Model"
   ]
  },
  {
   "cell_type": "code",
   "execution_count": 31,
   "metadata": {},
   "outputs": [
    {
     "data": {
      "text/plain": [
       "RandomForestClassifier(bootstrap=True, ccp_alpha=0.0,\n",
       "                       class_weight={0: 0.5682875264270613,\n",
       "                                     1: 4.1609907120743035},\n",
       "                       criterion='gini', max_depth=None, max_features='auto',\n",
       "                       max_leaf_nodes=None, max_samples=None,\n",
       "                       min_impurity_decrease=0.0, min_impurity_split=None,\n",
       "                       min_samples_leaf=1, min_samples_split=2,\n",
       "                       min_weight_fraction_leaf=0.0, n_estimators=100,\n",
       "                       n_jobs=None, oob_score=False, random_state=52, verbose=0,\n",
       "                       warm_start=False)"
      ]
     },
     "execution_count": 31,
     "metadata": {},
     "output_type": "execute_result"
    }
   ],
   "source": [
    "rf_clf = RandomForestClassifier(class_weight = wgt,random_state=52)\n",
    "rf_clf.fit(X_train, y_train)"
   ]
  },
  {
   "cell_type": "code",
   "execution_count": 32,
   "metadata": {},
   "outputs": [
    {
     "data": {
      "text/plain": [
       "1.0"
      ]
     },
     "execution_count": 32,
     "metadata": {},
     "output_type": "execute_result"
    }
   ],
   "source": [
    "f1_score(y_train, rf_clf.predict(X_train))"
   ]
  },
  {
   "cell_type": "code",
   "execution_count": 33,
   "metadata": {},
   "outputs": [
    {
     "data": {
      "text/plain": [
       "0.8591549295774646"
      ]
     },
     "execution_count": 33,
     "metadata": {},
     "output_type": "execute_result"
    }
   ],
   "source": [
    "f1_score(y_test, rf_clf.predict(X_test))"
   ]
  },
  {
   "cell_type": "markdown",
   "metadata": {},
   "source": [
    "Build a Linear SVM Model"
   ]
  },
  {
   "cell_type": "code",
   "execution_count": 34,
   "metadata": {},
   "outputs": [],
   "source": [
    "svc_clf = SVC(kernel='linear', class_weight=wgt).fit(preprocessing.scale(X_train), y_train)"
   ]
  },
  {
   "cell_type": "code",
   "execution_count": 35,
   "metadata": {},
   "outputs": [
    {
     "data": {
      "text/plain": [
       "0.7027624309392265"
      ]
     },
     "execution_count": 35,
     "metadata": {},
     "output_type": "execute_result"
    }
   ],
   "source": [
    "f1_score(y_train, svc_clf.predict(preprocessing.scale(X_train)))"
   ]
  },
  {
   "cell_type": "code",
   "execution_count": 36,
   "metadata": {},
   "outputs": [
    {
     "data": {
      "text/plain": [
       "0.6491228070175439"
      ]
     },
     "execution_count": 36,
     "metadata": {},
     "output_type": "execute_result"
    }
   ],
   "source": [
    "f1_score(y_test, svc_clf.predict(preprocessing.scale(X_test)))"
   ]
  },
  {
   "cell_type": "markdown",
   "metadata": {},
   "source": [
    "Looks like Random Forest is the best performing model we've seen. Run a grid search to find the optimal hyperparameters for this model."
   ]
  },
  {
   "cell_type": "code",
   "execution_count": 37,
   "metadata": {},
   "outputs": [],
   "source": [
    "grid_srch_params = {'max_depth': [16, 18, 20, 22, 24, 26, 28, 30],\n",
    "                    'min_samples_leaf': [1, 4, 6, 8],\n",
    "                    'min_samples_split': [2, 4, 6, 8, 10, 12, 14, 16, 18],\n",
    "                    'max_features': ['sqrt','log2']}\n",
    "grid_clf = GridSearchCV(RandomForestClassifier(class_weight = wgt, random_state=52),\n",
    "                        grid_srch_params, scoring ='f1', n_jobs=-1, cv=2)"
   ]
  },
  {
   "cell_type": "code",
   "execution_count": 38,
   "metadata": {},
   "outputs": [
    {
     "data": {
      "text/plain": [
       "GridSearchCV(cv=2, error_score=nan,\n",
       "             estimator=RandomForestClassifier(bootstrap=True, ccp_alpha=0.0,\n",
       "                                              class_weight={0: 0.5682875264270613,\n",
       "                                                            1: 4.1609907120743035},\n",
       "                                              criterion='gini', max_depth=None,\n",
       "                                              max_features='auto',\n",
       "                                              max_leaf_nodes=None,\n",
       "                                              max_samples=None,\n",
       "                                              min_impurity_decrease=0.0,\n",
       "                                              min_impurity_split=None,\n",
       "                                              min_samples_leaf=1,\n",
       "                                              min_samples_split=2,\n",
       "                                              min_weight_fraction...\n",
       "                                              n_estimators=100, n_jobs=None,\n",
       "                                              oob_score=False, random_state=52,\n",
       "                                              verbose=0, warm_start=False),\n",
       "             iid='deprecated', n_jobs=-1,\n",
       "             param_grid={'max_depth': [16, 18, 20, 22, 24, 26, 28, 30],\n",
       "                         'max_features': ['sqrt', 'log2'],\n",
       "                         'min_samples_leaf': [1, 4, 6, 8],\n",
       "                         'min_samples_split': [2, 4, 6, 8, 10, 12, 14, 16, 18]},\n",
       "             pre_dispatch='2*n_jobs', refit=True, return_train_score=False,\n",
       "             scoring='f1', verbose=0)"
      ]
     },
     "execution_count": 38,
     "metadata": {},
     "output_type": "execute_result"
    }
   ],
   "source": [
    "grid_clf.fit(X_train, y_train)"
   ]
  },
  {
   "cell_type": "code",
   "execution_count": 39,
   "metadata": {},
   "outputs": [
    {
     "data": {
      "text/plain": [
       "{'max_depth': 18,\n",
       " 'max_features': 'sqrt',\n",
       " 'min_samples_leaf': 1,\n",
       " 'min_samples_split': 6}"
      ]
     },
     "execution_count": 39,
     "metadata": {},
     "output_type": "execute_result"
    }
   ],
   "source": [
    "grid_clf.best_params_"
   ]
  },
  {
   "cell_type": "code",
   "execution_count": 40,
   "metadata": {},
   "outputs": [
    {
     "data": {
      "text/plain": [
       "0.9938461538461539"
      ]
     },
     "execution_count": 40,
     "metadata": {},
     "output_type": "execute_result"
    }
   ],
   "source": [
    "f1_score(y_train, grid_clf.predict(X_train))"
   ]
  },
  {
   "cell_type": "code",
   "execution_count": 41,
   "metadata": {},
   "outputs": [
    {
     "data": {
      "text/plain": [
       "0.8993288590604027"
      ]
     },
     "execution_count": 41,
     "metadata": {},
     "output_type": "execute_result"
    }
   ],
   "source": [
    "f1_score(y_test, grid_clf.predict(X_test))"
   ]
  },
  {
   "cell_type": "markdown",
   "metadata": {},
   "source": [
    "To do: Create method that takes in dataset of session data and performs classfication using the procedure outlined above"
   ]
  },
  {
   "cell_type": "code",
   "execution_count": null,
   "metadata": {},
   "outputs": [],
   "source": []
  }
 ],
 "metadata": {
  "kernelspec": {
   "display_name": "Python 3",
   "language": "python",
   "name": "python3"
  },
  "language_info": {
   "codemirror_mode": {
    "name": "ipython",
    "version": 3
   },
   "file_extension": ".py",
   "mimetype": "text/x-python",
   "name": "python",
   "nbconvert_exporter": "python",
   "pygments_lexer": "ipython3",
   "version": "3.7.3"
  }
 },
 "nbformat": 4,
 "nbformat_minor": 2
}
